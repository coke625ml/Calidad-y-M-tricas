{
 "cells": [
  {
   "cell_type": "code",
   "execution_count": 4,
   "id": "4d52cc38-3c8d-4347-b56f-5f0dfe52f6a7",
   "metadata": {},
   "outputs": [],
   "source": [
    "import findspark\n",
    "import os\n",
    "findspark.init()"
   ]
  },
  {
   "cell_type": "code",
   "execution_count": 5,
   "id": "1437c926-e233-411b-af01-094b2b8f1100",
   "metadata": {},
   "outputs": [],
   "source": [
    "from pyspark.sql import SparkSession"
   ]
  },
  {
   "cell_type": "code",
   "execution_count": 6,
   "id": "bef0526a-5887-4e61-ba3d-b73e2c223f99",
   "metadata": {},
   "outputs": [],
   "source": [
    "spark=SparkSession.builder.appName('firstSession')\\\n",
    ".config('spark.master','local[4]')\\\n",
    ".config('spark.shuffle.sql.partitions',1)\\\n",
    ".getOrCreate()\n"
   ]
  },
  {
   "cell_type": "code",
   "execution_count": 4,
   "id": "4c0cb92f-0d09-4aa5-8212-b09ce4f0c560",
   "metadata": {},
   "outputs": [
    {
     "data": {
      "text/html": [
       "\n",
       "            <div>\n",
       "                <p><b>SparkSession - in-memory</b></p>\n",
       "                \n",
       "        <div>\n",
       "            <p><b>SparkContext</b></p>\n",
       "\n",
       "            <p><a href=\"http://DESKTOP-E75PQB9:4040\">Spark UI</a></p>\n",
       "\n",
       "            <dl>\n",
       "              <dt>Version</dt>\n",
       "                <dd><code>v3.2.4</code></dd>\n",
       "              <dt>Master</dt>\n",
       "                <dd><code>local[4]</code></dd>\n",
       "              <dt>AppName</dt>\n",
       "                <dd><code>firstSession</code></dd>\n",
       "            </dl>\n",
       "        </div>\n",
       "        \n",
       "            </div>\n",
       "        "
      ],
      "text/plain": [
       "<pyspark.sql.session.SparkSession at 0x1a4f3eab040>"
      ]
     },
     "execution_count": 4,
     "metadata": {},
     "output_type": "execute_result"
    }
   ],
   "source": [
    "spark"
   ]
  },
  {
   "cell_type": "code",
   "execution_count": 5,
   "id": "7784ca54-be88-4525-a8be-0a298ff75ec6",
   "metadata": {},
   "outputs": [],
   "source": [
    "columnas=['id','nombre','x']\n",
    "lista=[\n",
    "    (1,'Errodinger','a'),\n",
    "    (2,'Paco','b'),\n",
    "    (3,'Hola','c'),\n",
    "    (4,'Adios','d')\n",
    "]\n",
    "    "
   ]
  },
  {
   "cell_type": "code",
   "execution_count": 6,
   "id": "1efb7efd-c7f2-4cca-9a4c-3445d09a10b9",
   "metadata": {},
   "outputs": [],
   "source": [
    "df1=spark.createDataFrame(lista,schema=columnas)"
   ]
  },
  {
   "cell_type": "code",
   "execution_count": 7,
   "id": "ea69aee8-431d-458e-8bfe-c072dece8e42",
   "metadata": {},
   "outputs": [
    {
     "data": {
      "text/plain": [
       "4"
      ]
     },
     "execution_count": 7,
     "metadata": {},
     "output_type": "execute_result"
    }
   ],
   "source": [
    "df1.count()"
   ]
  },
  {
   "cell_type": "code",
   "execution_count": 8,
   "id": "e8ac4b4a-04dd-4277-b12e-cb21d304403a",
   "metadata": {},
   "outputs": [
    {
     "name": "stdout",
     "output_type": "stream",
     "text": [
      "+---+----------+---+\n",
      "| id|    nombre|  x|\n",
      "+---+----------+---+\n",
      "|  1|Errodinger|  a|\n",
      "|  2|      Paco|  b|\n",
      "|  3|      Hola|  c|\n",
      "|  4|     Adios|  d|\n",
      "+---+----------+---+\n",
      "\n"
     ]
    }
   ],
   "source": [
    "df1.show()"
   ]
  },
  {
   "cell_type": "code",
   "execution_count": 9,
   "id": "edb48871-fce1-49ee-a19e-db07deee71fa",
   "metadata": {},
   "outputs": [
    {
     "data": {
      "text/plain": [
       "['id', 'nombre', 'x']"
      ]
     },
     "execution_count": 9,
     "metadata": {},
     "output_type": "execute_result"
    }
   ],
   "source": [
    "df1.columns"
   ]
  },
  {
   "cell_type": "code",
   "execution_count": 10,
   "id": "5eeb9282-e293-4fc3-ab3e-11ea6f149784",
   "metadata": {},
   "outputs": [
    {
     "name": "stdout",
     "output_type": "stream",
     "text": [
      "root\n",
      " |-- id: long (nullable = true)\n",
      " |-- nombre: string (nullable = true)\n",
      " |-- x: string (nullable = true)\n",
      "\n"
     ]
    }
   ],
   "source": [
    "df1.printSchema()"
   ]
  },
  {
   "cell_type": "code",
   "execution_count": 11,
   "id": "6a2095e3-db90-4dc8-b9ab-9d6cd9134611",
   "metadata": {},
   "outputs": [],
   "source": [
    "df=spark.read.csv('Downloads/newseg.csv',sep=';',header=True)"
   ]
  },
  {
   "cell_type": "code",
   "execution_count": 12,
   "id": "52cb2e78-b2b7-40e8-a9ee-638f510955db",
   "metadata": {},
   "outputs": [
    {
     "data": {
      "text/plain": [
       "589758"
      ]
     },
     "execution_count": 12,
     "metadata": {},
     "output_type": "execute_result"
    }
   ],
   "source": [
    "df.count()"
   ]
  },
  {
   "cell_type": "code",
   "execution_count": 13,
   "id": "eb3871e4-6677-4f9a-ae3f-96ac1bf33bf2",
   "metadata": {},
   "outputs": [
    {
     "name": "stdout",
     "output_type": "stream",
     "text": [
      "+------+---------------+--------------------+------+-------------+-------------+--------------------+---------+\n",
      "|FUENTE|CODIGO_COMERCIO|        RAZON_SOCIAL|   CUC|NRO_DOCUMENTO|SEGMENTO_BAIN|             CLUSTER|CATEGORIA|\n",
      "+------+---------------+--------------------+------+-------------+-------------+--------------------+---------+\n",
      "|     N|      100025101|FARMACIA UNIVERSA...|142543|  20100025168|      2.Large|Retail de bienes ...|Farmacias|\n",
      "|     N|      100004712|      MONARK PERU SA|142510|  20100004756|      2.Large|               Otros|    Otros|\n",
      "|     N|      100016601|IMPORTACIONES HIR...|142528|  20100016681|        1.Top|Retail de bienes ...|    Otros|\n",
      "|     N|      100041336|RIMAC SEGUROS Y R...|142578|  20100041953|        1.Top|           Servicios|  Seguros|\n",
      "|     N|      100004701|      MONARK PERU SA|142510|  20100004756|      2.Large|               Otros|    Otros|\n",
      "+------+---------------+--------------------+------+-------------+-------------+--------------------+---------+\n",
      "only showing top 5 rows\n",
      "\n"
     ]
    }
   ],
   "source": [
    "df.show(5)"
   ]
  },
  {
   "cell_type": "code",
   "execution_count": null,
   "id": "2b4b78ee-5286-40af-afb8-528f031d383c",
   "metadata": {},
   "outputs": [],
   "source": [
    "#######Selecionar columnas"
   ]
  },
  {
   "cell_type": "code",
   "execution_count": 16,
   "id": "a8697777-1745-481e-9028-826087183193",
   "metadata": {},
   "outputs": [],
   "source": [
    "df_reduc=df.select(df.FUENTE,df.CODIGO_COMERCIO,df.NRO_DOCUMENTO,df.SEGMENTO_BAIN)"
   ]
  },
  {
   "cell_type": "code",
   "execution_count": 17,
   "id": "4be338ae-38ee-47bb-845a-429580b997b5",
   "metadata": {},
   "outputs": [
    {
     "name": "stdout",
     "output_type": "stream",
     "text": [
      "+------+---------------+-------------+-------------+\n",
      "|FUENTE|CODIGO_COMERCIO|NRO_DOCUMENTO|SEGMENTO_BAIN|\n",
      "+------+---------------+-------------+-------------+\n",
      "|     N|      100025101|  20100025168|      2.Large|\n",
      "|     N|      100004712|  20100004756|      2.Large|\n",
      "|     N|      100016601|  20100016681|        1.Top|\n",
      "|     N|      100041336|  20100041953|        1.Top|\n",
      "|     N|      100004701|  20100004756|      2.Large|\n",
      "|     N|      100017661|  20100017491|        1.Top|\n",
      "|     N|      100028604|  20100028698|     3.Medium|\n",
      "|     N|      100004716|  20100004756|      2.Large|\n",
      "|     N|      100028616|  20100028698|     3.Medium|\n",
      "|     N|      100019902|  20100019940|     3.Medium|\n",
      "|     N|      100028642|  20100028698|     3.Medium|\n",
      "|     N|      100016603|  20100016681|        1.Top|\n",
      "|     N|      100017673|  20100017491|        1.Top|\n",
      "|     N|      100035046|  20332970411|        1.Top|\n",
      "|     N|      100025119|  20100025168|      2.Large|\n",
      "|     N|      100012001|  20100012007|     3.Medium|\n",
      "|     N|      100028628|  20100028698|     3.Medium|\n",
      "|     N|      100030510|  20100030595|   6.Gobierno|\n",
      "|     N|      100000301|  20100000335|      4.Small|\n",
      "|     N|      100010704|  20100010721|     3.Medium|\n",
      "+------+---------------+-------------+-------------+\n",
      "only showing top 20 rows\n",
      "\n"
     ]
    }
   ],
   "source": [
    "df_reduc.show()"
   ]
  },
  {
   "cell_type": "code",
   "execution_count": 14,
   "id": "3a0b3312-f530-4d6e-ac3e-84d176e28cb7",
   "metadata": {},
   "outputs": [
    {
     "data": {
      "text/html": [
       "<div>\n",
       "<style scoped>\n",
       "    .dataframe tbody tr th:only-of-type {\n",
       "        vertical-align: middle;\n",
       "    }\n",
       "\n",
       "    .dataframe tbody tr th {\n",
       "        vertical-align: top;\n",
       "    }\n",
       "\n",
       "    .dataframe thead th {\n",
       "        text-align: right;\n",
       "    }\n",
       "</style>\n",
       "<table border=\"1\" class=\"dataframe\">\n",
       "  <thead>\n",
       "    <tr style=\"text-align: right;\">\n",
       "      <th></th>\n",
       "      <th>Session ID</th>\n",
       "      <th>CreationTime</th>\n",
       "      <th>Fecha</th>\n",
       "      <th>CreationTime_Peru</th>\n",
       "      <th>startingCause</th>\n",
       "      <th>TipoEncuesta</th>\n",
       "      <th>NPS</th>\n",
       "      <th>SOL</th>\n",
       "      <th>SAT</th>\n",
       "      <th>Libre</th>\n",
       "      <th>operatorid</th>\n",
       "      <th>contactId</th>\n",
       "      <th>channelId</th>\n",
       "      <th>typification</th>\n",
       "    </tr>\n",
       "  </thead>\n",
       "  <tbody>\n",
       "    <tr>\n",
       "      <th>0</th>\n",
       "      <td>R38ZNONRP3U7ET8PCG4L_2023-03-01T16:53:56.576Z</td>\n",
       "      <td>2023-03-01T16:53:56Z</td>\n",
       "      <td>2023-03-01</td>\n",
       "      <td>2023-03-01 11:53:56-05:00</td>\n",
       "      <td>Organic</td>\n",
       "      <td>NaN</td>\n",
       "      <td>NaN</td>\n",
       "      <td>NaN</td>\n",
       "      <td>NaN</td>\n",
       "      <td>NaN</td>\n",
       "      <td>NaN</td>\n",
       "      <td>51945252026</td>\n",
       "      <td>niubiz-whatsapp-51915368891</td>\n",
       "      <td>finished</td>\n",
       "    </tr>\n",
       "    <tr>\n",
       "      <th>1</th>\n",
       "      <td>22P5J8YQ7IK67ZQT5AF8_2023-03-01T17:02:34.920Z</td>\n",
       "      <td>2023-03-01T17:02:34Z</td>\n",
       "      <td>2023-03-01</td>\n",
       "      <td>2023-03-01 12:02:34-05:00</td>\n",
       "      <td>Organic</td>\n",
       "      <td>NaN</td>\n",
       "      <td>NaN</td>\n",
       "      <td>NaN</td>\n",
       "      <td>NaN</td>\n",
       "      <td>NaN</td>\n",
       "      <td>NaN</td>\n",
       "      <td>51960839086</td>\n",
       "      <td>niubiz-whatsapp-51915368891</td>\n",
       "      <td>NaN</td>\n",
       "    </tr>\n",
       "    <tr>\n",
       "      <th>2</th>\n",
       "      <td>SVWBOC5Z1TXZGX1F7A7Z_2023-03-01T17:02:58.469Z</td>\n",
       "      <td>2023-03-01T17:02:58Z</td>\n",
       "      <td>2023-03-01</td>\n",
       "      <td>2023-03-01 12:02:58-05:00</td>\n",
       "      <td>Organic</td>\n",
       "      <td>NaN</td>\n",
       "      <td>NaN</td>\n",
       "      <td>NaN</td>\n",
       "      <td>NaN</td>\n",
       "      <td>NaN</td>\n",
       "      <td>w3y7gG69XrbzyX2mYG9Mr3g17vn1</td>\n",
       "      <td>51973784376</td>\n",
       "      <td>niubiz-whatsapp-15512958227</td>\n",
       "      <td>NaN</td>\n",
       "    </tr>\n",
       "    <tr>\n",
       "      <th>3</th>\n",
       "      <td>JH6P8AD7NUL3PN0GV45N_2023-03-01T17:04:03.771Z</td>\n",
       "      <td>2023-03-01T17:04:03Z</td>\n",
       "      <td>2023-03-01</td>\n",
       "      <td>2023-03-01 12:04:03-05:00</td>\n",
       "      <td>Organic</td>\n",
       "      <td>NaN</td>\n",
       "      <td>NaN</td>\n",
       "      <td>NaN</td>\n",
       "      <td>NaN</td>\n",
       "      <td>NaN</td>\n",
       "      <td>308ih2gcmEhTGNZNPfvQq4mQMrp2</td>\n",
       "      <td>niubiz_test_chat-mBcIsRiUmqNDO9TbPfI7omnJvXV2</td>\n",
       "      <td>niubiz-webchat-null-niubiz_test_chat</td>\n",
       "      <td>NaN</td>\n",
       "    </tr>\n",
       "    <tr>\n",
       "      <th>4</th>\n",
       "      <td>R38ZNONRP3U7ET8PCG4L_2023-03-01T18:08:41.390Z</td>\n",
       "      <td>2023-03-01T18:08:41Z</td>\n",
       "      <td>2023-03-01</td>\n",
       "      <td>2023-03-01 13:08:41-05:00</td>\n",
       "      <td>Organic</td>\n",
       "      <td>NaN</td>\n",
       "      <td>NaN</td>\n",
       "      <td>NaN</td>\n",
       "      <td>NaN</td>\n",
       "      <td>NaN</td>\n",
       "      <td>NaN</td>\n",
       "      <td>51945252026</td>\n",
       "      <td>niubiz-whatsapp-51915368891</td>\n",
       "      <td>NaN</td>\n",
       "    </tr>\n",
       "    <tr>\n",
       "      <th>...</th>\n",
       "      <td>...</td>\n",
       "      <td>...</td>\n",
       "      <td>...</td>\n",
       "      <td>...</td>\n",
       "      <td>...</td>\n",
       "      <td>...</td>\n",
       "      <td>...</td>\n",
       "      <td>...</td>\n",
       "      <td>...</td>\n",
       "      <td>...</td>\n",
       "      <td>...</td>\n",
       "      <td>...</td>\n",
       "      <td>...</td>\n",
       "      <td>...</td>\n",
       "    </tr>\n",
       "    <tr>\n",
       "      <th>236897</th>\n",
       "      <td>R3UP1FIXLNACNEISUDS3_2023-05-28T19:59:51.952Z</td>\n",
       "      <td>2023-05-28T19:59:51Z</td>\n",
       "      <td>2023-05-28</td>\n",
       "      <td>2023-05-28 14:59:51-05:00</td>\n",
       "      <td>Organic</td>\n",
       "      <td>NaN</td>\n",
       "      <td>NaN</td>\n",
       "      <td>NaN</td>\n",
       "      <td>NaN</td>\n",
       "      <td>NaN</td>\n",
       "      <td>NaN</td>\n",
       "      <td>51923966729</td>\n",
       "      <td>niubiz-whatsapp-5116149800</td>\n",
       "      <td>INACTIVIDAD_DEL_CLIENTE_BOT</td>\n",
       "    </tr>\n",
       "    <tr>\n",
       "      <th>236898</th>\n",
       "      <td>7UYHAS37TIXVWMJGM2GQ_2023-05-28T20:09:13.969Z</td>\n",
       "      <td>2023-05-28T20:09:13Z</td>\n",
       "      <td>2023-05-28</td>\n",
       "      <td>2023-05-28 15:09:13-05:00</td>\n",
       "      <td>Organic</td>\n",
       "      <td>NaN</td>\n",
       "      <td>NaN</td>\n",
       "      <td>NaN</td>\n",
       "      <td>NaN</td>\n",
       "      <td>NaN</td>\n",
       "      <td>NaN</td>\n",
       "      <td>51912321825</td>\n",
       "      <td>niubiz-whatsapp-5116149800</td>\n",
       "      <td>FUERA_DE_HORARIO</td>\n",
       "    </tr>\n",
       "    <tr>\n",
       "      <th>236899</th>\n",
       "      <td>XIJWGY3YTL5AN6UDSZLO_2023-05-28T20:10:08.444Z</td>\n",
       "      <td>2023-05-28T20:10:08Z</td>\n",
       "      <td>2023-05-28</td>\n",
       "      <td>2023-05-28 15:10:08-05:00</td>\n",
       "      <td>Organic</td>\n",
       "      <td>Agente</td>\n",
       "      <td>9.0</td>\n",
       "      <td>Si</td>\n",
       "      <td>10.0</td>\n",
       "      <td>NaN</td>\n",
       "      <td>NaN</td>\n",
       "      <td>51995610267</td>\n",
       "      <td>niubiz-whatsapp-5116149800</td>\n",
       "      <td>finished</td>\n",
       "    </tr>\n",
       "    <tr>\n",
       "      <th>236900</th>\n",
       "      <td>GNHAMFZWYTIKNZPPK6QA_2023-05-28T20:24:44.892Z</td>\n",
       "      <td>2023-05-28T20:24:44Z</td>\n",
       "      <td>2023-05-28</td>\n",
       "      <td>2023-05-28 15:24:44-05:00</td>\n",
       "      <td>Organic</td>\n",
       "      <td>Bot</td>\n",
       "      <td>8.0</td>\n",
       "      <td>No</td>\n",
       "      <td>NaN</td>\n",
       "      <td>NaN</td>\n",
       "      <td>NaN</td>\n",
       "      <td>51990654748</td>\n",
       "      <td>niubiz-whatsapp-5116149800</td>\n",
       "      <td>NaN</td>\n",
       "    </tr>\n",
       "    <tr>\n",
       "      <th>236901</th>\n",
       "      <td>VFGB6VGRGR0ARCDLUZ5A_2023-05-28T20:29:33.019Z</td>\n",
       "      <td>2023-05-28T20:29:33Z</td>\n",
       "      <td>2023-05-28</td>\n",
       "      <td>2023-05-28 15:29:33-05:00</td>\n",
       "      <td>Organic</td>\n",
       "      <td>NaN</td>\n",
       "      <td>NaN</td>\n",
       "      <td>NaN</td>\n",
       "      <td>NaN</td>\n",
       "      <td>NaN</td>\n",
       "      <td>NaN</td>\n",
       "      <td>51982281835</td>\n",
       "      <td>niubiz-whatsapp-5116149800</td>\n",
       "      <td>NaN</td>\n",
       "    </tr>\n",
       "  </tbody>\n",
       "</table>\n",
       "<p>236902 rows × 14 columns</p>\n",
       "</div>"
      ],
      "text/plain": [
       "                                           Session ID          CreationTime  \\\n",
       "0       R38ZNONRP3U7ET8PCG4L_2023-03-01T16:53:56.576Z  2023-03-01T16:53:56Z   \n",
       "1       22P5J8YQ7IK67ZQT5AF8_2023-03-01T17:02:34.920Z  2023-03-01T17:02:34Z   \n",
       "2       SVWBOC5Z1TXZGX1F7A7Z_2023-03-01T17:02:58.469Z  2023-03-01T17:02:58Z   \n",
       "3       JH6P8AD7NUL3PN0GV45N_2023-03-01T17:04:03.771Z  2023-03-01T17:04:03Z   \n",
       "4       R38ZNONRP3U7ET8PCG4L_2023-03-01T18:08:41.390Z  2023-03-01T18:08:41Z   \n",
       "...                                               ...                   ...   \n",
       "236897  R3UP1FIXLNACNEISUDS3_2023-05-28T19:59:51.952Z  2023-05-28T19:59:51Z   \n",
       "236898  7UYHAS37TIXVWMJGM2GQ_2023-05-28T20:09:13.969Z  2023-05-28T20:09:13Z   \n",
       "236899  XIJWGY3YTL5AN6UDSZLO_2023-05-28T20:10:08.444Z  2023-05-28T20:10:08Z   \n",
       "236900  GNHAMFZWYTIKNZPPK6QA_2023-05-28T20:24:44.892Z  2023-05-28T20:24:44Z   \n",
       "236901  VFGB6VGRGR0ARCDLUZ5A_2023-05-28T20:29:33.019Z  2023-05-28T20:29:33Z   \n",
       "\n",
       "            Fecha          CreationTime_Peru startingCause TipoEncuesta  NPS  \\\n",
       "0      2023-03-01  2023-03-01 11:53:56-05:00       Organic          NaN  NaN   \n",
       "1      2023-03-01  2023-03-01 12:02:34-05:00       Organic          NaN  NaN   \n",
       "2      2023-03-01  2023-03-01 12:02:58-05:00       Organic          NaN  NaN   \n",
       "3      2023-03-01  2023-03-01 12:04:03-05:00       Organic          NaN  NaN   \n",
       "4      2023-03-01  2023-03-01 13:08:41-05:00       Organic          NaN  NaN   \n",
       "...           ...                        ...           ...          ...  ...   \n",
       "236897 2023-05-28  2023-05-28 14:59:51-05:00       Organic          NaN  NaN   \n",
       "236898 2023-05-28  2023-05-28 15:09:13-05:00       Organic          NaN  NaN   \n",
       "236899 2023-05-28  2023-05-28 15:10:08-05:00       Organic       Agente  9.0   \n",
       "236900 2023-05-28  2023-05-28 15:24:44-05:00       Organic          Bot  8.0   \n",
       "236901 2023-05-28  2023-05-28 15:29:33-05:00       Organic          NaN  NaN   \n",
       "\n",
       "        SOL   SAT Libre                    operatorid  \\\n",
       "0       NaN   NaN   NaN                           NaN   \n",
       "1       NaN   NaN   NaN                           NaN   \n",
       "2       NaN   NaN   NaN  w3y7gG69XrbzyX2mYG9Mr3g17vn1   \n",
       "3       NaN   NaN   NaN  308ih2gcmEhTGNZNPfvQq4mQMrp2   \n",
       "4       NaN   NaN   NaN                           NaN   \n",
       "...     ...   ...   ...                           ...   \n",
       "236897  NaN   NaN   NaN                           NaN   \n",
       "236898  NaN   NaN   NaN                           NaN   \n",
       "236899   Si  10.0   NaN                           NaN   \n",
       "236900   No   NaN   NaN                           NaN   \n",
       "236901  NaN   NaN   NaN                           NaN   \n",
       "\n",
       "                                            contactId  \\\n",
       "0                                         51945252026   \n",
       "1                                         51960839086   \n",
       "2                                         51973784376   \n",
       "3       niubiz_test_chat-mBcIsRiUmqNDO9TbPfI7omnJvXV2   \n",
       "4                                         51945252026   \n",
       "...                                               ...   \n",
       "236897                                    51923966729   \n",
       "236898                                    51912321825   \n",
       "236899                                    51995610267   \n",
       "236900                                    51990654748   \n",
       "236901                                    51982281835   \n",
       "\n",
       "                                   channelId                 typification  \n",
       "0                niubiz-whatsapp-51915368891                     finished  \n",
       "1                niubiz-whatsapp-51915368891                          NaN  \n",
       "2                niubiz-whatsapp-15512958227                          NaN  \n",
       "3       niubiz-webchat-null-niubiz_test_chat                          NaN  \n",
       "4                niubiz-whatsapp-51915368891                          NaN  \n",
       "...                                      ...                          ...  \n",
       "236897            niubiz-whatsapp-5116149800  INACTIVIDAD_DEL_CLIENTE_BOT  \n",
       "236898            niubiz-whatsapp-5116149800             FUERA_DE_HORARIO  \n",
       "236899            niubiz-whatsapp-5116149800                     finished  \n",
       "236900            niubiz-whatsapp-5116149800                          NaN  \n",
       "236901            niubiz-whatsapp-5116149800                          NaN  \n",
       "\n",
       "[236902 rows x 14 columns]"
      ]
     },
     "execution_count": 14,
     "metadata": {},
     "output_type": "execute_result"
    }
   ],
   "source": [
    "import pandas as pd\n",
    "data=pd.read_excel('Downloads/reporte_nps.xlsx',sheet_name='Data')\n",
    "data"
   ]
  },
  {
   "cell_type": "code",
   "execution_count": 34,
   "id": "a3c74b03-f209-4c3f-af8b-5585ff1bb1a3",
   "metadata": {},
   "outputs": [],
   "source": [
    "from pyspark.sql.types import StructType,StructField, StringType, IntegerType,DateType,FloatType\n",
    "from pyspark.sql.functions import col, isnan, when"
   ]
  },
  {
   "cell_type": "code",
   "execution_count": 16,
   "id": "23b8cc7a-a24a-443a-80eb-0a6f03f60315",
   "metadata": {},
   "outputs": [],
   "source": [
    "schema = StructType([ \\\n",
    "    StructField(\"Session ID\",StringType(),True), \\\n",
    "    StructField(\"CreationTime\",StringType(),True), \\\n",
    "    StructField(\"Fecha\",DateType(),True), \\\n",
    "    StructField(\"CreationTime_Peru\", StringType(), True), \\\n",
    "    StructField(\"startingCause\", StringType(), True), \\\n",
    "    StructField(\"TipoEncuesta\", StringType(), True), \\\n",
    "    StructField(\"NPS\", FloatType(), True), \\\n",
    "    StructField(\"SOL\", StringType(), True), \\\n",
    "    StructField(\"SAT\", FloatType(), True), \\\n",
    "    StructField(\"Libre\", StringType(), True), \\\n",
    "    StructField(\"operatorid\", StringType(), True) ,\\\n",
    "    StructField(\"contactId\", StringType(), True), \\\n",
    "    StructField(\"channelId\", StringType(), True), \\\n",
    "    StructField(\"typification\", StringType(), True) \\\n",
    "    ])"
   ]
  },
  {
   "cell_type": "code",
   "execution_count": 66,
   "id": "3af88592-fbee-413f-8496-1736585bdd8e",
   "metadata": {},
   "outputs": [],
   "source": [
    "data_1=spark.createDataFrame(data,schema=schema)"
   ]
  },
  {
   "cell_type": "code",
   "execution_count": 67,
   "id": "97006f32-2a86-45c6-9ba2-34b5fe916cc7",
   "metadata": {},
   "outputs": [
    {
     "data": {
      "text/plain": [
       "236902"
      ]
     },
     "execution_count": 67,
     "metadata": {},
     "output_type": "execute_result"
    }
   ],
   "source": [
    "data_1.count()"
   ]
  },
  {
   "cell_type": "code",
   "execution_count": 68,
   "id": "9c50c593-4fbe-4420-bbe9-ec434c7b6108",
   "metadata": {},
   "outputs": [],
   "source": [
    "data_1=data_1.withColumnRenamed('Session ID', 'Session_ID')"
   ]
  },
  {
   "cell_type": "code",
   "execution_count": 69,
   "id": "c6a61a10-8612-4e6c-a440-fea71a75467e",
   "metadata": {},
   "outputs": [],
   "source": [
    "data_1=data_1.where('TipoEncuesta <> \"NaN\"')"
   ]
  },
  {
   "cell_type": "code",
   "execution_count": 70,
   "id": "d2c98df5-5064-4389-a3f7-f3329ddd0529",
   "metadata": {},
   "outputs": [
    {
     "name": "stdout",
     "output_type": "stream",
     "text": [
      "+----+\n",
      "| SAT|\n",
      "+----+\n",
      "|10.0|\n",
      "| 9.0|\n",
      "| 5.0|\n",
      "|null|\n",
      "| 7.0|\n",
      "| 2.0|\n",
      "| 3.0|\n",
      "| 1.0|\n",
      "| 6.0|\n",
      "| 8.0|\n",
      "| 4.0|\n",
      "+----+\n",
      "\n"
     ]
    }
   ],
   "source": [
    "data_1=data_1.withColumn(\"SAT\", when(isnan(col(\"SAT\")), None).otherwise(col(\"SAT\")))\n",
    "data_1.select(data_1.SAT).distinct().show()"
   ]
  },
  {
   "cell_type": "code",
   "execution_count": 71,
   "id": "c08098f8-d6f1-408a-9bfd-d9d4cb481e79",
   "metadata": {},
   "outputs": [],
   "source": [
    "data_1=data_1.withColumn(\"SOL\",when(isnan(col(\"SOL\")),None).otherwise(col(\"SOL\")))\n",
    "data_1= data_1.withColumn(\"SOL\", when(col(\"SOL\") == \"Si\", 1).otherwise(col(\"SOL\")))\n",
    "data_1= data_1.withColumn(\"SOL\", when(col(\"SOL\") == \"No\", 0).otherwise(col(\"SOL\")))"
   ]
  },
  {
   "cell_type": "code",
   "execution_count": 72,
   "id": "e3ec01fd-378b-4148-8744-61da231ffff2",
   "metadata": {},
   "outputs": [
    {
     "name": "stdout",
     "output_type": "stream",
     "text": [
      "+----+\n",
      "| SOL|\n",
      "+----+\n",
      "|   1|\n",
      "|   0|\n",
      "|null|\n",
      "+----+\n",
      "\n"
     ]
    }
   ],
   "source": [
    "data_1.select(data_1.SOL).distinct().show()"
   ]
  },
  {
   "cell_type": "code",
   "execution_count": 73,
   "id": "ebaf14e4-eb61-410f-a479-301f70448bca",
   "metadata": {},
   "outputs": [],
   "source": [
    "data_1 = data_1.withColumn(\"NPS\", when(data_1.NPS <7,1)\n",
    "                                 .when(data_1.NPS<6 ,-1)\n",
    "                                 .otherwise(0))"
   ]
  },
  {
   "cell_type": "code",
   "execution_count": 74,
   "id": "ac6c71c2-27be-4133-86f2-c343ccc5ff2d",
   "metadata": {},
   "outputs": [],
   "source": [
    "data_1=data_1.withColumn(\"SAT\",when(data_1.SAT>6,1)\n",
    "                         .when(data_1.SAT<=6,0)\n",
    "                         .otherwise(col(\"SAT\")))"
   ]
  },
  {
   "cell_type": "code",
   "execution_count": 75,
   "id": "5ed8b47f-abd5-45e4-872e-97dbd97d45f9",
   "metadata": {},
   "outputs": [
    {
     "name": "stdout",
     "output_type": "stream",
     "text": [
      "+----+\n",
      "| SAT|\n",
      "+----+\n",
      "| 1.0|\n",
      "|null|\n",
      "| 0.0|\n",
      "+----+\n",
      "\n"
     ]
    }
   ],
   "source": [
    "data_1.select(data_1.SAT).distinct().show()"
   ]
  },
  {
   "cell_type": "code",
   "execution_count": 77,
   "id": "7ea6b623-d3db-47c7-b477-ceb9390bc883",
   "metadata": {},
   "outputs": [],
   "source": [
    "data_1.write.parquet(\"Desktop/chatbot/chatbot.parquet\")\n"
   ]
  }
 ],
 "metadata": {
  "kernelspec": {
   "display_name": "Python 3 (ipykernel)",
   "language": "python",
   "name": "python3"
  },
  "language_info": {
   "codemirror_mode": {
    "name": "ipython",
    "version": 3
   },
   "file_extension": ".py",
   "mimetype": "text/x-python",
   "name": "python",
   "nbconvert_exporter": "python",
   "pygments_lexer": "ipython3",
   "version": "3.10.9"
  }
 },
 "nbformat": 4,
 "nbformat_minor": 5
}
