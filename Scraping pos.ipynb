{
 "cells": [
  {
   "cell_type": "code",
   "execution_count": 171,
   "id": "2d64cc5e-b1a4-4cb7-aeda-b2bc99245787",
   "metadata": {},
   "outputs": [],
   "source": [
    "import time\n",
    "from selenium.webdriver.support.ui import Select\n",
    "from selenium.webdriver.common.keys import Keys\n",
    "from selenium.webdriver.common.by import By\n",
    "from selenium.webdriver.support.ui import WebDriverWait\n",
    "from selenium.webdriver.support import expected_conditions as EC\n",
    "import time\n",
    "# Abrir Chrome\n",
    "from selenium import webdriver"
   ]
  },
  {
   "cell_type": "code",
   "execution_count": 172,
   "id": "49d340b3-0649-4441-b9bc-c0b89050a5d8",
   "metadata": {},
   "outputs": [],
   "source": [
    "from selenium import webdriver\n",
    "chrome_driver_path='C:/Users/LENOVO/Downloads/chrome-win64'\n",
    "options = webdriver.ChromeOptions()\n",
    "options.binary_location = 'C:/Users/LENOVO/Downloads/chrome-win64/chrome.exe'  # Replace with your Chrome installation path\n",
    "options.add_argument(f\"chromedriver_path={chrome_driver_path}\")  # Replace with the path to your chromedriver executable\n",
    "driver = webdriver.Chrome(options=options)\n",
    "\n",
    "# Now you can use the 'driver' object for web automation\n"
   ]
  },
  {
   "cell_type": "code",
   "execution_count": 173,
   "id": "15adda22-9e80-4d45-a26b-28c0a25d0355",
   "metadata": {},
   "outputs": [],
   "source": [
    "url = \"https://provisioning.vnmpos.com/web.posservices/jsp/login.jsp\""
   ]
  },
  {
   "cell_type": "code",
   "execution_count": 174,
   "id": "f6ec38c5-7dc5-477f-bad5-091b11eebfc0",
   "metadata": {},
   "outputs": [],
   "source": [
    "driver.get(url)"
   ]
  },
  {
   "cell_type": "code",
   "execution_count": 175,
   "id": "83883b2e-8131-4bd2-9758-ea0c864d57ce",
   "metadata": {},
   "outputs": [],
   "source": [
    "username_field = driver.find_element(\"id\", \"tbx_usuario\")\n",
    "password_field = driver.find_element(\"id\", \"tbx_password\")\n"
   ]
  },
  {
   "cell_type": "code",
   "execution_count": 176,
   "id": "c65f4824-5823-4a8d-b232-f6e42da61e36",
   "metadata": {},
   "outputs": [],
   "source": [
    "username_field.send_keys(\"mbeltran@niubiz.com.pe\")\n",
    "password_field.send_keys(\"Mauro0107\")\n"
   ]
  },
  {
   "cell_type": "code",
   "execution_count": 177,
   "id": "1160c0cc-f6bd-4040-805f-8735767dc5c9",
   "metadata": {},
   "outputs": [],
   "source": [
    "from selenium.webdriver.common.by import By"
   ]
  },
  {
   "cell_type": "code",
   "execution_count": 178,
   "id": "caaa5aea-5f8a-4816-954e-8c53daa60db5",
   "metadata": {},
   "outputs": [],
   "source": [
    "submit_button = driver.find_element(By.CSS_SELECTOR,\"button.btn.btn-primary\")"
   ]
  },
  {
   "cell_type": "code",
   "execution_count": 179,
   "id": "ec1bf7c4-64ec-4858-af0b-79d6cb60ff8e",
   "metadata": {},
   "outputs": [],
   "source": [
    "submit_button.click()"
   ]
  },
  {
   "cell_type": "code",
   "execution_count": 180,
   "id": "8fe877a9-8d42-4cd1-b6c6-b07e319d853d",
   "metadata": {},
   "outputs": [],
   "source": [
    "empresa=driver.find_element(\"id\", \"cbx_service\")"
   ]
  },
  {
   "cell_type": "code",
   "execution_count": 181,
   "id": "182b7e92-c86d-45f7-b045-c0c94f2373d7",
   "metadata": {},
   "outputs": [],
   "source": [
    "wait = WebDriverWait(driver, 10)\n",
    "dropdown = wait.until(EC.presence_of_element_located((By.ID, \"cbx_service\")))"
   ]
  },
  {
   "cell_type": "code",
   "execution_count": 182,
   "id": "35915a95-ffdc-4f18-a078-274fd7c4fe77",
   "metadata": {},
   "outputs": [],
   "source": [
    "select = Select(dropdown)"
   ]
  },
  {
   "cell_type": "code",
   "execution_count": 183,
   "id": "a191c8b2-742c-4cce-a2d3-65774d014fd1",
   "metadata": {},
   "outputs": [],
   "source": [
    "select.select_by_visible_text(\"VisaNet\")"
   ]
  },
  {
   "cell_type": "code",
   "execution_count": 184,
   "id": "a0765dd9-7476-4172-b3b9-5ba6c2654f27",
   "metadata": {},
   "outputs": [],
   "source": [
    "date_picker_input = driver.find_element(By.NAME, 'dateFrom')"
   ]
  },
  {
   "cell_type": "code",
   "execution_count": 185,
   "id": "b241a6fa-da6b-42fe-91fb-5d44905ead37",
   "metadata": {},
   "outputs": [],
   "source": [
    "date_picker_input.click()"
   ]
  },
  {
   "cell_type": "code",
   "execution_count": 186,
   "id": "fa308fbc-7860-47f1-9b09-2427e0044948",
   "metadata": {},
   "outputs": [],
   "source": [
    "icono_calendario = driver.find_element(By.CLASS_NAME, \"glyphicon-calendar\")\n"
   ]
  },
  {
   "cell_type": "code",
   "execution_count": 187,
   "id": "8302aec2-991c-4e6a-ac53-1bdc4bb9e1e1",
   "metadata": {},
   "outputs": [],
   "source": [
    "icono_calendario.click()"
   ]
  },
  {
   "cell_type": "code",
   "execution_count": 188,
   "id": "da79108f-49c3-4cc1-b74f-a99c026d6033",
   "metadata": {},
   "outputs": [],
   "source": [
    "driver.find_element(By.XPATH, '//td[text()=\"1\"]').click()"
   ]
  },
  {
   "cell_type": "code",
   "execution_count": 189,
   "id": "8b57e250-603d-4b9d-9e5b-eb7f838909c8",
   "metadata": {},
   "outputs": [],
   "source": [
    "date_picker_input = driver.find_element(By.NAME, 'dateTo')"
   ]
  },
  {
   "cell_type": "code",
   "execution_count": 190,
   "id": "37c8adca-2fbf-424d-90f3-0590a34af5c3",
   "metadata": {},
   "outputs": [],
   "source": [
    "date_picker_input.click()"
   ]
  },
  {
   "cell_type": "code",
   "execution_count": 191,
   "id": "46960563-5f1f-4853-b48e-1b959ef5f1dc",
   "metadata": {},
   "outputs": [],
   "source": [
    "icono_calendario = driver.find_element(By.XPATH, \"/html/body/div[2]/form/div[6]/div/div/div/div/span/span\")"
   ]
  },
  {
   "cell_type": "code",
   "execution_count": 192,
   "id": "8644f45f-1acf-4b4c-9a31-84e6640f61fb",
   "metadata": {},
   "outputs": [],
   "source": [
    "icono_calendario.click()"
   ]
  },
  {
   "cell_type": "code",
   "execution_count": 193,
   "id": "3a96b3e9-7415-4a11-96df-139144e88831",
   "metadata": {},
   "outputs": [],
   "source": [
    "driver.find_element(By.XPATH, '/html/body/div[4]/div[3]/table/tbody/tr[6]/td[2]').click() "
   ]
  },
  {
   "cell_type": "code",
   "execution_count": 194,
   "id": "7ab4e357-2e8b-4a83-9a21-bd419c960532",
   "metadata": {},
   "outputs": [],
   "source": [
    "driver.find_element(By.XPATH, '/html/body/div[2]/form/div[7]/div/div/div/button[2]').click() "
   ]
  },
  {
   "cell_type": "markdown",
   "id": "0c361468-b23d-46ce-8abb-43cb7fc4fcde",
   "metadata": {},
   "source": [
    "###### "
   ]
  }
 ],
 "metadata": {
  "kernelspec": {
   "display_name": "Python 3 (ipykernel)",
   "language": "python",
   "name": "python3"
  },
  "language_info": {
   "codemirror_mode": {
    "name": "ipython",
    "version": 3
   },
   "file_extension": ".py",
   "mimetype": "text/x-python",
   "name": "python",
   "nbconvert_exporter": "python",
   "pygments_lexer": "ipython3",
   "version": "3.10.9"
  }
 },
 "nbformat": 4,
 "nbformat_minor": 5
}
