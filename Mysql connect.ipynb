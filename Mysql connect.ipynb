{
 "cells": [
  {
   "cell_type": "code",
   "execution_count": 3,
   "id": "568f18fe-a2cc-4590-87fc-9361e5814d99",
   "metadata": {
    "tags": []
   },
   "outputs": [
    {
     "name": "stdout",
     "output_type": "stream",
     "text": [
      "('Dato1', 'Dato2', 'Dato3')\n",
      "('valor1', 'valor2', 'valor3')\n"
     ]
    }
   ],
   "source": [
    "import mysql.connector\n",
    "\n",
    "# Establecer la conexión\n",
    "conexion = mysql.connector.connect(\n",
    "    host=\"localhost\",\n",
    "    user=\"root\",\n",
    "    password=\"unalm123\",\n",
    "    database=\"dataf\"\n",
    ")\n",
    "\n",
    "# Crear un objeto Cursor\n",
    "cursor = conexion.cursor()\n",
    "\n",
    "# Ejemplo de consulta SELECT\n",
    "cursor.execute(\"SELECT * FROM mitabla\")\n",
    "resultados = cursor.fetchall()\n",
    "for fila in resultados:\n",
    "    print(fila)\n",
    "\n",
    "# Ejemplo de inserción de datos\n",
    "insert_query = \"INSERT INTO  (col1, col2, col3) VALUES (%s, %s, %s)\"\n",
    "datos_a_insertar = (\"valor1\", \"valor2\", \"valor3\")\n",
    "cursor.execute(insert_query, datos_a_insertar)\n",
    "conexion.commit()\n",
    "\n",
    "# Cerrar el cursor y la conexión\n",
    "cursor.close()\n",
    "conexion.close()\n"
   ]
  },
  {
   "cell_type": "code",
   "execution_count": null,
   "id": "70c5576c-9443-4b48-8570-2c5eb83080af",
   "metadata": {},
   "outputs": [],
   "source": []
  },
  {
   "cell_type": "code",
   "execution_count": null,
   "id": "9eee039e-398b-4d6e-9a4f-012753679de9",
   "metadata": {},
   "outputs": [],
   "source": []
  }
 ],
 "metadata": {
  "kernelspec": {
   "display_name": "Python 3 (ipykernel)",
   "language": "python",
   "name": "python3"
  },
  "language_info": {
   "codemirror_mode": {
    "name": "ipython",
    "version": 3
   },
   "file_extension": ".py",
   "mimetype": "text/x-python",
   "name": "python",
   "nbconvert_exporter": "python",
   "pygments_lexer": "ipython3",
   "version": "3.11.5"
  }
 },
 "nbformat": 4,
 "nbformat_minor": 5
}
