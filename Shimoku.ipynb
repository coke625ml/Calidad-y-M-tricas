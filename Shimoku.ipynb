{
 "cells": [
  {
   "cell_type": "code",
   "execution_count": 1,
   "id": "35b92e35-0edc-4720-ae46-acb468778bc4",
   "metadata": {},
   "outputs": [
    {
     "ename": "ModuleNotFoundError",
     "evalue": "No module named 'shimoku_api_python'",
     "output_type": "error",
     "traceback": [
      "\u001b[1;31m---------------------------------------------------------------------------\u001b[0m",
      "\u001b[1;31mModuleNotFoundError\u001b[0m                       Traceback (most recent call last)",
      "Cell \u001b[1;32mIn[1], line 2\u001b[0m\n\u001b[0;32m      1\u001b[0m \u001b[38;5;28;01mfrom\u001b[39;00m \u001b[38;5;21;01mos\u001b[39;00m \u001b[38;5;28;01mimport\u001b[39;00m getenv\n\u001b[1;32m----> 2\u001b[0m \u001b[38;5;28;01mimport\u001b[39;00m \u001b[38;5;21;01mshimoku_api_python\u001b[39;00m \u001b[38;5;28;01mas\u001b[39;00m \u001b[38;5;21;01mShimoku\u001b[39;00m\n\u001b[0;32m      4\u001b[0m access_token \u001b[38;5;241m=\u001b[39m getenv(\u001b[38;5;124m'\u001b[39m\u001b[38;5;124m492f79cd-0009-4219-b494-e4637906dc90\u001b[39m\u001b[38;5;124m'\u001b[39m)\n\u001b[0;32m      5\u001b[0m universe_id: \u001b[38;5;28mstr\u001b[39m \u001b[38;5;241m=\u001b[39m getenv(\u001b[38;5;124m'\u001b[39m\u001b[38;5;124m1b462b46-0961-4641-b36e-d9066e6d4ba4\u001b[39m\u001b[38;5;124m'\u001b[39m)\n",
      "\u001b[1;31mModuleNotFoundError\u001b[0m: No module named 'shimoku_api_python'"
     ]
    }
   ],
   "source": [
    "from os import getenv\n",
    "import shimoku_api_python as Shimoku\n",
    "\n",
    "access_token = getenv('492f79cd-0009-4219-b494-e4637906dc90')\n",
    "universe_id: str = getenv('1b462b46-0961-4641-b36e-d9066e6d4ba4')\n",
    "workspace_id: str = getenv('655fa715-581c-4246-8be7-cfbcbe29624d')\n",
    "\n",
    "s = Shimoku.Client(\n",
    "    access_token=access_token,\n",
    "    universe_id=universe_id,\n",
    ")\n",
    "s.set_workspace(uuid=workspace_id)\n",
    "\n",
    "s.set_board('Custom Board')\n",
    "\n",
    "s.set_menu_path('catalog', 'bar-example')\n",
    "\n",
    "language_expressiveness = [\n",
    "    {'Language': 'C', 'Statements ratio': 1.0, 'Lines ratio': 1.0},\n",
    "    {'Language': 'C++', 'Statements ratio': 2.5, 'Lines ratio': 1.0},\n",
    "    {'Language': 'Fortran', 'Statements ratio': 2.0, 'Lines ratio': 0.8},\n",
    "    {'Language': 'Java', 'Statements ratio': 2.5, 'Lines ratio': 1.5},\n",
    "    {'Language': 'Perl', 'Statements ratio': 6.0, 'Lines ratio': 6.0},\n",
    "    {'Language': 'Smalltalk', 'Statements ratio': 6.0, 'Lines ratio': 6.25},\n",
    "    {'Language': 'Python', 'Statements ratio': 6.0, 'Lines ratio': 6.5},\n",
    "]\n",
    "\n",
    "s.plt.bar(\n",
    "    order=0, title='Language expressiveness',\n",
    "    data=language_expressiveness, x='Language',\n",
    "    y=['Statements ratio', 'Lines ratio'],\n",
    ")"
   ]
  },
  {
   "cell_type": "code",
   "execution_count": 1,
   "id": "cf08df18-82e4-4f00-8171-5083ce30d52c",
   "metadata": {
    "tags": []
   },
   "outputs": [
    {
     "name": "stdout",
     "output_type": "stream",
     "text": [
      "Collecting shimoku-api-python\n",
      "  Obtaining dependency information for shimoku-api-python from https://files.pythonhosted.org/packages/6b/6c/1cc2086f49b02b0aaca3561f65262850bbba24ca8dfd25df4838555f6925/shimoku_api_python-1.4.1-py2.py3-none-any.whl.metadata\n",
      "  Using cached shimoku_api_python-1.4.1-py2.py3-none-any.whl.metadata (14 kB)\n",
      "Collecting pandas~=2.1.3 (from shimoku-api-python)\n",
      "  Obtaining dependency information for pandas~=2.1.3 from https://files.pythonhosted.org/packages/97/d8/dc2f6bff06a799a5603c414afc6de39c6351fe34892d50b6a077df3be6ac/pandas-2.1.3-cp311-cp311-win_amd64.whl.metadata\n",
      "  Using cached pandas-2.1.3-cp311-cp311-win_amd64.whl.metadata (18 kB)\n",
      "Requirement already satisfied: requests~=2.31.0 in c:\\users\\nils_\\anaconda3\\lib\\site-packages (from shimoku-api-python) (2.31.0)\n",
      "Collecting datetime~=4.9 (from shimoku-api-python)\n",
      "  Using cached DateTime-4.9-py2.py3-none-any.whl (52 kB)\n",
      "Collecting json5~=0.9.10 (from shimoku-api-python)\n",
      "  Obtaining dependency information for json5~=0.9.10 from https://files.pythonhosted.org/packages/70/ba/fa37123a86ae8287d6678535a944f9c3377d8165e536310ed6f6cb0f0c0e/json5-0.9.14-py2.py3-none-any.whl.metadata\n",
      "  Using cached json5-0.9.14-py2.py3-none-any.whl.metadata (10 kB)\n",
      "Collecting tenacity~=8.1.0 (from shimoku-api-python)\n",
      "  Using cached tenacity-8.1.0-py3-none-any.whl (23 kB)\n",
      "Collecting shimoku-components-catalog>=0.2.1 (from shimoku-api-python)\n",
      "  Using cached shimoku_components_catalog-0.2.1-py2.py3-none-any.whl (8.2 kB)\n",
      "Collecting tqdm~=4.64.1 (from shimoku-api-python)\n",
      "  Using cached tqdm-4.64.1-py2.py3-none-any.whl (78 kB)\n",
      "Collecting psutil~=5.9.4 (from shimoku-api-python)\n",
      "  Obtaining dependency information for psutil~=5.9.4 from https://files.pythonhosted.org/packages/c5/b2/699c50fe0b0402a1ccb64ad71313bcb740e735008dd3ab9abeddbe148e45/psutil-5.9.6-cp37-abi3-win_amd64.whl.metadata\n",
      "  Using cached psutil-5.9.6-cp37-abi3-win_amd64.whl.metadata (22 kB)\n",
      "Requirement already satisfied: aiohttp~=3.8.3 in c:\\users\\nils_\\anaconda3\\lib\\site-packages (from shimoku-api-python) (3.8.5)\n",
      "Requirement already satisfied: ipython>=8.10 in c:\\users\\nils_\\anaconda3\\lib\\site-packages (from shimoku-api-python) (8.15.0)\n",
      "Collecting uvicorn~=0.23.2 (from shimoku-api-python)\n",
      "  Obtaining dependency information for uvicorn~=0.23.2 from https://files.pythonhosted.org/packages/79/96/b0882a1c3f7ef3dd86879e041212ae5b62b4bd352320889231cc735a8e8f/uvicorn-0.23.2-py3-none-any.whl.metadata\n",
      "  Using cached uvicorn-0.23.2-py3-none-any.whl.metadata (6.2 kB)\n",
      "Collecting graphene~=3.3 (from shimoku-api-python)\n",
      "  Obtaining dependency information for graphene~=3.3 from https://files.pythonhosted.org/packages/24/70/96f6027cdfc9bb89fc07627b615cb43fb1c443c93498412beaeaf157e9f1/graphene-3.3-py2.py3-none-any.whl.metadata\n",
      "  Using cached graphene-3.3-py2.py3-none-any.whl.metadata (7.7 kB)\n",
      "Requirement already satisfied: urllib3~=1.26.13 in c:\\users\\nils_\\anaconda3\\lib\\site-packages (from shimoku-api-python) (1.26.16)\n",
      "Collecting pydantic~=2.4.2 (from shimoku-api-python)\n",
      "  Obtaining dependency information for pydantic~=2.4.2 from https://files.pythonhosted.org/packages/73/66/0a72c9fcde42e5650c8d8d5c5c1873b9a3893018020c77ca8eb62708b923/pydantic-2.4.2-py3-none-any.whl.metadata\n",
      "  Using cached pydantic-2.4.2-py3-none-any.whl.metadata (158 kB)\n",
      "Collecting strawberry-graphql~=0.198.0 (from shimoku-api-python)\n",
      "  Obtaining dependency information for strawberry-graphql~=0.198.0 from https://files.pythonhosted.org/packages/22/d5/4e2a7c65f34fa66bcab60952826e5f43182ca8c72fe4ed57b11772791291/strawberry_graphql-0.198.0-py3-none-any.whl.metadata\n",
      "  Using cached strawberry_graphql-0.198.0-py3-none-any.whl.metadata (7.6 kB)\n",
      "Collecting starlette-graphene3~=0.6.0 (from shimoku-api-python)\n",
      "  Using cached starlette_graphene3-0.6.0-py3-none-any.whl (9.0 kB)\n",
      "Collecting fastapi~=0.103.2 (from shimoku-api-python)\n",
      "  Obtaining dependency information for fastapi~=0.103.2 from https://files.pythonhosted.org/packages/4d/d2/3ad038a2365fefbac19d9a046cab7ce45f4c7bfa81d877cbece9707de9ce/fastapi-0.103.2-py3-none-any.whl.metadata\n",
      "  Using cached fastapi-0.103.2-py3-none-any.whl.metadata (24 kB)\n",
      "Collecting websockets~=11.0.3 (from shimoku-api-python)\n",
      "  Using cached websockets-11.0.3-cp311-cp311-win_amd64.whl (124 kB)\n",
      "Requirement already satisfied: python-dateutil~=2.8.2 in c:\\users\\nils_\\anaconda3\\lib\\site-packages (from shimoku-api-python) (2.8.2)\n",
      "Collecting uvloop~=0.19.0 (from shimoku-api-python)\n",
      "  Using cached uvloop-0.19.0.tar.gz (2.3 MB)\n",
      "  Installing build dependencies: started\n",
      "  Installing build dependencies: finished with status 'done'\n",
      "  Getting requirements to build wheel: started\n",
      "  Getting requirements to build wheel: finished with status 'error'\n",
      "Note: you may need to restart the kernel to use updated packages.\n"
     ]
    },
    {
     "name": "stderr",
     "output_type": "stream",
     "text": [
      "  error: subprocess-exited-with-error\n",
      "  \n",
      "  Getting requirements to build wheel did not run successfully.\n",
      "  exit code: 1\n",
      "  \n",
      "  [18 lines of output]\n",
      "  Traceback (most recent call last):\n",
      "    File \"C:\\Users\\nils_\\anaconda3\\Lib\\site-packages\\pip\\_vendor\\pyproject_hooks\\_in_process\\_in_process.py\", line 353, in <module>\n",
      "      main()\n",
      "    File \"C:\\Users\\nils_\\anaconda3\\Lib\\site-packages\\pip\\_vendor\\pyproject_hooks\\_in_process\\_in_process.py\", line 335, in main\n",
      "      json_out['return_val'] = hook(**hook_input['kwargs'])\n",
      "                               ^^^^^^^^^^^^^^^^^^^^^^^^^^^^\n",
      "    File \"C:\\Users\\nils_\\anaconda3\\Lib\\site-packages\\pip\\_vendor\\pyproject_hooks\\_in_process\\_in_process.py\", line 118, in get_requires_for_build_wheel\n",
      "      return hook(config_settings)\n",
      "             ^^^^^^^^^^^^^^^^^^^^^\n",
      "    File \"C:\\Users\\nils_\\AppData\\Local\\Temp\\pip-build-env-8xw6ljr0\\overlay\\Lib\\site-packages\\setuptools\\build_meta.py\", line 325, in get_requires_for_build_wheel\n",
      "      return self._get_build_requires(config_settings, requirements=['wheel'])\n",
      "             ^^^^^^^^^^^^^^^^^^^^^^^^^^^^^^^^^^^^^^^^^^^^^^^^^^^^^^^^^^^^^^^^^\n",
      "    File \"C:\\Users\\nils_\\AppData\\Local\\Temp\\pip-build-env-8xw6ljr0\\overlay\\Lib\\site-packages\\setuptools\\build_meta.py\", line 295, in _get_build_requires\n",
      "      self.run_setup()\n",
      "    File \"C:\\Users\\nils_\\AppData\\Local\\Temp\\pip-build-env-8xw6ljr0\\overlay\\Lib\\site-packages\\setuptools\\build_meta.py\", line 311, in run_setup\n",
      "      exec(code, locals())\n",
      "    File \"<string>\", line 8, in <module>\n",
      "  RuntimeError: uvloop does not support Windows at the moment\n",
      "  [end of output]\n",
      "  \n",
      "  note: This error originates from a subprocess, and is likely not a problem with pip.\n",
      "error: subprocess-exited-with-error\n",
      "\n",
      "Getting requirements to build wheel did not run successfully.\n",
      "exit code: 1\n",
      "\n",
      "See above for output.\n",
      "\n",
      "note: This error originates from a subprocess, and is likely not a problem with pip.\n"
     ]
    }
   ],
   "source": [
    "pip install shimoku-api-python"
   ]
  },
  {
   "cell_type": "code",
   "execution_count": 4,
   "id": "a9910ed2-c25d-44b5-bb05-be1a86d90451",
   "metadata": {
    "tags": []
   },
   "outputs": [
    {
     "data": {
      "text/plain": [
       "'3.11.5 | packaged by Anaconda, Inc. | (main, Sep 11 2023, 13:26:23) [MSC v.1916 64 bit (AMD64)]'"
      ]
     },
     "execution_count": 4,
     "metadata": {},
     "output_type": "execute_result"
    }
   ],
   "source": [
    "import sys\n",
    "sys.version"
   ]
  }
 ],
 "metadata": {
  "kernelspec": {
   "display_name": "Python 3 (ipykernel)",
   "language": "python",
   "name": "python3"
  },
  "language_info": {
   "codemirror_mode": {
    "name": "ipython",
    "version": 3
   },
   "file_extension": ".py",
   "mimetype": "text/x-python",
   "name": "python",
   "nbconvert_exporter": "python",
   "pygments_lexer": "ipython3",
   "version": "3.11.5"
  }
 },
 "nbformat": 4,
 "nbformat_minor": 5
}
